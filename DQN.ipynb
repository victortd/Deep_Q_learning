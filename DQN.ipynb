{
 "cells": [
  {
   "cell_type": "markdown",
   "metadata": {},
   "source": [
    "**You may need to install [OpenCV](https://pypi.python.org/pypi/opencv-python) and [scikit-video](http://www.scikit-video.org/stable/).**"
   ]
  },
  {
   "cell_type": "code",
   "execution_count": 37,
   "metadata": {},
   "outputs": [],
   "source": [
    "import keras\n",
    "import numpy as np\n",
    "import random\n",
    "import io\n",
    "import base64\n",
    "from IPython.display import HTML\n",
    "import skvideo.io\n",
    "import cv2\n",
    "import json\n",
    "\n",
    "from keras.models import Sequential,model_from_json\n",
    "from keras.layers.core import Dense\n",
    "from keras.optimizers import sgd, Adam\n",
    "from keras.layers import Conv2D, MaxPooling2D, Activation, AveragePooling2D,Reshape,BatchNormalization, Flatten"
   ]
  },
  {
   "cell_type": "markdown",
   "metadata": {},
   "source": [
    "# MiniProject #3: Deep Reinforcement Learning"
   ]
  },
  {
   "cell_type": "markdown",
   "metadata": {},
   "source": [
    "__Notations__: $E_p$ is the expectation under probability $p$. Please justify each of your answer and widely comment your code."
   ]
  },
  {
   "cell_type": "markdown",
   "metadata": {},
   "source": [
    "# Context"
   ]
  },
  {
   "cell_type": "markdown",
   "metadata": {},
   "source": [
    "In a reinforcement learning algorithm, we modelize each step $t$ as an action $a_t$ obtained from a state $s_t$, i.e. $\\{(a_{t},s_{t})_{t\\leq T}\\}$ having the Markov property. We consider a discount factor $\\gamma \\in [0,1]$ that ensures convergence. The goal is to find among all the policies $\\pi$, one that maximizes the expected reward:\n",
    "\n",
    "\\begin{equation*}\n",
    "R(\\pi)=\\sum_{t\\leq T}E_{p^{\\pi}}[\\gamma^t r(s_{t},a_{t})] \\> ,\n",
    "\\end{equation*}\n",
    "\n",
    "where: \n",
    "\\begin{equation*}p^{\\pi}(a_{0},a_{1},s_{1},...,a_{T},s_{T})=p(a_{0})\\prod_{t=1}^{T}\\pi(a_{t}|s_{t})p(s_{t+1}|s_{t},a_{t}) \\> .\n",
    "\\end{equation*}\n",
    "\n",
    "We note the $Q$-function:\n",
    "\n",
    "\\begin{equation*}Q^\\pi(s,a)=E_{p^{\\pi}}[\\sum_{t\\leq T}\\gamma^{t}r(s_{t},a_{t})|s_{0}=s,a_{0}=a] \\> .\n",
    "\\end{equation*}\n",
    "\n",
    "Thus, the optimal Q function is:\n",
    "\\begin{equation*}\n",
    "Q^*(s,a)=\\max_{\\pi}Q^\\pi(s,a) \\> .\n",
    "\\end{equation*}\n",
    "\n",
    "In this project, we will apply the deep reinforcement learning techniques to a simple game: an agent will have to learn from scratch a policy that will permit it maximizing a reward."
   ]
  },
  {
   "cell_type": "markdown",
   "metadata": {},
   "source": [
    "## The environment, the agent and the game"
   ]
  },
  {
   "cell_type": "markdown",
   "metadata": {},
   "source": [
    "### The environment"
   ]
  },
  {
   "cell_type": "markdown",
   "metadata": {},
   "source": [
    "```Environment``` is an abstract class that represents the states, rewards, and actions to obtain the new state."
   ]
  },
  {
   "cell_type": "code",
   "execution_count": 38,
   "metadata": {},
   "outputs": [],
   "source": [
    "class Environment(object):\n",
    "    def __init__(self):\n",
    "        pass\n",
    "\n",
    "    def act(self, act):\n",
    "        \"\"\"\n",
    "        One can act on the environment and obtain its reaction:\n",
    "        - the new state\n",
    "        - the reward of the new state\n",
    "        - should we continue the game?\n",
    "\n",
    "        :return: state, reward, game_over\n",
    "        \"\"\"\n",
    "        pass\n",
    "\n",
    "\n",
    "    def reset(self):\n",
    "        \"\"\"\n",
    "        Reinitialize the environment to a random state and returns\n",
    "        the original state\n",
    "\n",
    "        :return: state\n",
    "        \"\"\"\n",
    "        pass\n",
    "    \n",
    "    def draw(self):\n",
    "        \"\"\"\n",
    "        Visualize in the console or graphically the current state\n",
    "        \"\"\"\n",
    "        pass"
   ]
  },
  {
   "cell_type": "markdown",
   "metadata": {},
   "source": [
    "The method ```act``` allows to act on the environment at a given state $s_t$ (stored internally), via action $a_t$. The method will return the new state $s_{t+1}$, the reward $r(s_{t},a_{t})$ and determines if $t\\leq T$ (*game_over*).\n",
    "\n",
    "The method ```reset``` simply reinitializes the environment to a random state $s_0$.\n",
    "\n",
    "The method ```draw``` displays the current state $s_t$ (this is useful to check the behavior of the Agent).\n",
    "\n",
    "We modelize $s_t$ as a tensor, while $a_t$ is an integer."
   ]
  },
  {
   "cell_type": "markdown",
   "metadata": {},
   "source": [
    "### The Agent"
   ]
  },
  {
   "cell_type": "markdown",
   "metadata": {},
   "source": [
    "The goal of the ```Agent``` is to interact with the ```Environment``` by proposing actions $a_t$ obtained from a given state $s_t$ to attempt to maximize its __reward__ $r(s_t,a_t)$. We propose the following abstract class:"
   ]
  },
  {
   "cell_type": "code",
   "execution_count": 62,
   "metadata": {},
   "outputs": [],
   "source": [
    "class Agent(object):\n",
    "    def __init__(self, epsilon=0.1, n_action=4, epsilon_min=0.01, epsilon_decay = 0.95):\n",
    "        self.epsilon = epsilon\n",
    "        self.n_action = n_action\n",
    "        self.epsilon_min = epsilon_min\n",
    "        self.epsilon_decay = epsilon_decay\n",
    "    \n",
    "    def set_epsilon(self, e):\n",
    "        self.epsilon = e\n",
    "        \n",
    "        return self.epsilon\n",
    "\n",
    "    def act(self,s,train=True):\n",
    "        \"\"\" This function should return the next action to do:\n",
    "        an integer between 0 and 4 (not included) with a random exploration of epsilon\"\"\"\n",
    "        if train:\n",
    "            if np.random.rand() <= self.epsilon:\n",
    "                a = np.random.randint(0, self.n_action, size=1)[0]\n",
    "            else:\n",
    "                a = self.learned_act(s)\n",
    "        else: # in some cases, this can improve the performance.. remove it if poor performances\n",
    "            a = self.learned_act(s)\n",
    "\n",
    "        return a\n",
    "\n",
    "    def learned_act(self,s):\n",
    "        \"\"\" Act via the policy of the agent, from a given state s\n",
    "        it proposes an action a\"\"\"\n",
    "        pass\n",
    "\n",
    "    def reinforce(self, s, n_s, a, r, game_over_):\n",
    "        \"\"\" This function is the core of the learning algorithm. \n",
    "        It takes as an input the current state s_, the next state n_s_\n",
    "        the action a_ used to move from s_ to n_s_ and the reward r_.\n",
    "        \n",
    "        Its goal is to learn a policy.\n",
    "        \"\"\"\n",
    "        pass\n",
    "\n",
    "    def save(self):\n",
    "        \"\"\" This function returns basic stats if applicable: the\n",
    "        loss and/or the model\"\"\"\n",
    "        pass\n",
    "\n",
    "    def load(self):\n",
    "        \"\"\" This function allows to restore a model\"\"\"\n",
    "        pass"
   ]
  },
  {
   "cell_type": "markdown",
   "metadata": {},
   "source": [
    "***\n",
    "__Question 1__:\n",
    "Explain the function act. Why is ```epsilon``` essential?"
   ]
  },
  {
   "cell_type": "markdown",
   "metadata": {},
   "source": [
    "$\\epsilon$ is essential for the exploration part.\n",
    "Without it our agent would only take the first viable solutions it found without exploring/looking for a better one."
   ]
  },
  {
   "cell_type": "markdown",
   "metadata": {},
   "source": [
    "***\n",
    "### The Game"
   ]
  },
  {
   "cell_type": "markdown",
   "metadata": {},
   "source": [
    "The ```Agent``` and the ```Environment``` work in an interlaced way as in the following (take some time to understand this code as it is the core of the project)\n",
    "\n",
    "```python\n",
    "\n",
    "epoch = 300\n",
    "env = Environment()\n",
    "agent = Agent()\n",
    "\n",
    "\n",
    "# Number of won games\n",
    "score = 0\n",
    "loss = 0\n",
    "\n",
    "\n",
    "for e in range(epoch):\n",
    "    # At each epoch, we restart to a fresh game and get the initial state\n",
    "    state = env.reset()\n",
    "    # This assumes that the games will end\n",
    "    game_over = False\n",
    "\n",
    "    win = 0\n",
    "    lose = 0\n",
    "    \n",
    "    while not game_over:\n",
    "        # The agent performs an action\n",
    "        action = agent.act(state)\n",
    "\n",
    "        # Apply an action to the environment, get the next state, the reward\n",
    "        # and if the games end\n",
    "        prev_state = state\n",
    "        state, reward, game_over = env.act(action)\n",
    "\n",
    "        # Update the counters\n",
    "        if reward > 0:\n",
    "            win = win + reward\n",
    "        if reward < 0:\n",
    "            lose = lose -reward\n",
    "\n",
    "        # Apply the reinforcement strategy\n",
    "        loss = agent.reinforce(prev_state, state,  action, reward, game_over)\n",
    "\n",
    "    # Save as a mp4\n",
    "    if e % 10 == 0:\n",
    "        env.draw(e)\n",
    "\n",
    "    # Update stats\n",
    "    score += win-lose\n",
    "\n",
    "    print(\"Epoch {:03d}/{:03d} | Loss {:.4f} | Win/lose count {}/{} ({})\"\n",
    "          .format(e, epoch, loss, win, lose, win-lose))\n",
    "    agent.save()\n",
    "```"
   ]
  },
  {
   "cell_type": "markdown",
   "metadata": {},
   "source": [
    "# The game, *eat cheese*"
   ]
  },
  {
   "cell_type": "markdown",
   "metadata": {},
   "source": [
    "A rat runs on an island and tries to eat as much as possible. The island is subdivided into $N\\times N$ cells, in which there are cheese (+0.5) and poisonous cells (-1). The rat has a visibility of 2 cells (thus it can see $5^2$ cells). The rat is given a time $T$ to accumulate as much food as possible. It can perform 4 actions: going up, down, left, right. \n",
    "\n",
    "The goal is to code an agent to solve this task that will learn by trial and error. We propose the following environment:"
   ]
  },
  {
   "cell_type": "code",
   "execution_count": 40,
   "metadata": {},
   "outputs": [],
   "source": [
    "class Environment(object):\n",
    "    def __init__(self, grid_size=10, max_time=500, temperature=0.1):\n",
    "        grid_size = grid_size+4\n",
    "        self.grid_size = grid_size\n",
    "        self.max_time = max_time\n",
    "        self.temperature = temperature\n",
    "\n",
    "        #board on which one plays\n",
    "        self.board = np.zeros((grid_size,grid_size))\n",
    "        self.position = np.zeros((grid_size,grid_size))\n",
    "\n",
    "        # coordinate of the cat\n",
    "        self.x = 0\n",
    "        self.y = 1\n",
    "\n",
    "        # self time\n",
    "        self.t = 0\n",
    "\n",
    "        self.scale=16\n",
    "\n",
    "        self.to_draw = np.zeros((max_time+2, grid_size*self.scale, grid_size*self.scale, 3))\n",
    "\n",
    "\n",
    "    def draw(self,e):\n",
    "        skvideo.io.vwrite(str(e) + '.mp4', self.to_draw)\n",
    "\n",
    "    def get_frame(self,t):\n",
    "        b = np.zeros((self.grid_size,self.grid_size,3))+128\n",
    "        b[self.board>0,0] = 256\n",
    "        b[self.board < 0, 2] = 256\n",
    "        b[self.x,self.y,:]=256\n",
    "        b[-2:,:,:]=0\n",
    "        b[:,-2:,:]=0\n",
    "        b[:2,:,:]=0\n",
    "        b[:,:2,:]=0\n",
    "        \n",
    "        b =  cv2.resize(b, None, fx=self.scale, fy=self.scale, interpolation=cv2.INTER_NEAREST)\n",
    "\n",
    "        self.to_draw[t,:,:,:]=b\n",
    "\n",
    "\n",
    "    def act(self, action):\n",
    "        \"\"\"This function returns the new state, reward and decides if the\n",
    "        game ends.\"\"\"\n",
    "\n",
    "        self.get_frame(int(self.t))\n",
    "\n",
    "        self.position = np.zeros((self.grid_size, self.grid_size))\n",
    "\n",
    "        self.position[0:2,:]= -1\n",
    "        self.position[:,0:2] = -1\n",
    "        self.position[-2:, :] = -1\n",
    "        self.position[-2:, :] = -1\n",
    "\n",
    "        self.position[self.x, self.y] = 1\n",
    "        if action == 0:\n",
    "            if self.x == self.grid_size-3:\n",
    "                self.x = self.x-1\n",
    "            else:\n",
    "                self.x = self.x + 1\n",
    "        elif action == 1:\n",
    "            if self.x == 2:\n",
    "                self.x = self.x+1\n",
    "            else:\n",
    "                self.x = self.x-1\n",
    "        elif action == 2:\n",
    "            if self.y == self.grid_size - 3:\n",
    "                self.y = self.y - 1\n",
    "            else:\n",
    "                self.y = self.y + 1\n",
    "        elif action == 3:\n",
    "            if self.y == 2:\n",
    "                self.y = self.y + 1\n",
    "            else:\n",
    "                self.y = self.y - 1\n",
    "        else:\n",
    "            RuntimeError('Error: action not recognized')\n",
    "\n",
    "        self.t = self.t + 1\n",
    "        reward = self.board[self.x, self.y]\n",
    "        self.board[self.x, self.y] = 0\n",
    "        game_over = self.t > self.max_time\n",
    "        state = np.concatenate((self.board.reshape(self.grid_size, self.grid_size,1),\n",
    "                        self.position.reshape(self.grid_size, self.grid_size,1)),axis=2)\n",
    "        state = state[self.x-2:self.x+3,self.y-2:self.y+3,:]\n",
    "\n",
    "        return state, reward, game_over\n",
    "\n",
    "    def reset(self):\n",
    "        \"\"\"This function resets the game and returns the initial state\"\"\"\n",
    "\n",
    "        self.x = np.random.randint(3, self.grid_size-3, size=1)[0]\n",
    "        self.y = np.random.randint(3, self.grid_size-3, size=1)[0]\n",
    "\n",
    "\n",
    "        bonus = 0.5*np.random.binomial(1,self.temperature,size=self.grid_size**2)\n",
    "        bonus = bonus.reshape(self.grid_size,self.grid_size)\n",
    "\n",
    "        malus = -1.0*np.random.binomial(1,self.temperature,size=self.grid_size**2)\n",
    "        malus = malus.reshape(self.grid_size, self.grid_size)\n",
    "\n",
    "        self.to_draw = np.zeros((self.max_time+2, self.grid_size*self.scale, self.grid_size*self.scale, 3))\n",
    "\n",
    "\n",
    "        malus[bonus>0]=0\n",
    "\n",
    "        self.board = bonus + malus\n",
    "\n",
    "        self.position = np.zeros((self.grid_size, self.grid_size))\n",
    "        self.position[0:2,:]= -1\n",
    "        self.position[:,0:2] = -1\n",
    "        self.position[-2:, :] = -1\n",
    "        self.position[-2:, :] = -1\n",
    "        self.board[self.x,self.y] = 0\n",
    "        self.t = 0\n",
    "\n",
    "        state = np.concatenate((\n",
    "                               self.board.reshape(self.grid_size, self.grid_size,1),\n",
    "                        self.position.reshape(self.grid_size, self.grid_size,1)),axis=2)\n",
    "\n",
    "        state = state[self.x - 2:self.x + 3, self.y - 2:self.y + 3, :]\n",
    "        return state"
   ]
  },
  {
   "cell_type": "markdown",
   "metadata": {},
   "source": [
    "The following elements are important because they correspond to the hyper parameters for this project:"
   ]
  },
  {
   "cell_type": "code",
   "execution_count": 41,
   "metadata": {},
   "outputs": [],
   "source": [
    "# parameters\n",
    "size = 13\n",
    "T=200\n",
    "temperature=0.3\n",
    "epochs_train=11 # set small when debugging\n",
    "epochs_test=11 # set small when debugging\n",
    "\n",
    "# display videos\n",
    "def display_videos(name):\n",
    "    video = io.open(name, 'r+b').read()\n",
    "    encoded = base64.b64encode(video)\n",
    "    return '''<video alt=\"test\" controls>\n",
    "                <source src=\"data:video/mp4;base64,{0}\" type=\"video/mp4\" />\n",
    "             </video>'''.format(encoded.decode('ascii'))"
   ]
  },
  {
   "cell_type": "markdown",
   "metadata": {},
   "source": [
    "__Question 2__ Explain the use of the arrays ```position``` and ```board```."
   ]
  },
  {
   "cell_type": "markdown",
   "metadata": {},
   "source": [
    "board is the board game on which we play and it is used to determine the rewards that can be obtained at a certain position.\n",
    "\n",
    "Position is also an array the size of the board and is used to determine where our agent can see"
   ]
  },
  {
   "cell_type": "markdown",
   "metadata": {},
   "source": [
    "## Random Agent"
   ]
  },
  {
   "cell_type": "markdown",
   "metadata": {},
   "source": [
    "***\n",
    "__Question 3__ Implement a random Agent (only ```learned_act``` needs to be implemented):"
   ]
  },
  {
   "cell_type": "code",
   "execution_count": 14,
   "metadata": {},
   "outputs": [],
   "source": [
    "class RandomAgent(Agent):\n",
    "    def __init__(self):\n",
    "        super(RandomAgent, self).__init__()\n",
    "        pass\n",
    "\n",
    "    def learned_act(self, s):\n",
    "        return np.random.randint(4)"
   ]
  },
  {
   "cell_type": "markdown",
   "metadata": {},
   "source": [
    "***\n",
    "***\n",
    "__Question 4__ Visualize the game moves. You need to fill in the following function for the evaluation:"
   ]
  },
  {
   "cell_type": "code",
   "execution_count": 42,
   "metadata": {},
   "outputs": [],
   "source": [
    "def test(agent,env,epochs,prefix=''):\n",
    "    # Number of won games\n",
    "    score = 0\n",
    "        \n",
    "    for e in range(epochs):\n",
    "        \n",
    "        ##### FILL IN HERE\n",
    "        state = env.reset()\n",
    "        # This assumes that the games will end\n",
    "        game_over = False\n",
    "\n",
    "        win = 0\n",
    "        lose = 0\n",
    "\n",
    "        while not game_over:\n",
    "            # The agent performs an action\n",
    "            action = agent.act(state)\n",
    "\n",
    "            # Apply an action to the environment, get the next state, the reward\n",
    "            # and if the games end\n",
    "            prev_state = state\n",
    "            state, reward, game_over = env.act(action)\n",
    "\n",
    "            # Update the counters\n",
    "            if reward > 0:\n",
    "                win = win + reward\n",
    "            if reward < 0:\n",
    "                lose = lose -reward\n",
    "                \n",
    "        # Save as a mp4\n",
    "        env.draw(prefix+str(e))\n",
    "\n",
    "        # Update stats\n",
    "        score = score + win-lose\n",
    "\n",
    "        print(\"Win/lose count {}/{}. Average score ({})\"\n",
    "              .format(win, lose, score/(1+e)))\n",
    "    print('Final score: '+str(score/epochs))"
   ]
  },
  {
   "cell_type": "code",
   "execution_count": 16,
   "metadata": {},
   "outputs": [
    {
     "name": "stdout",
     "output_type": "stream",
     "text": [
      "Win/lose count 13.0/16.0. Average score (-3.0)\n",
      "Win/lose count 9.5/11.0. Average score (-2.25)\n",
      "Win/lose count 6.5/14.0. Average score (-4.0)\n",
      "Win/lose count 10.5/22.0. Average score (-5.875)\n",
      "Win/lose count 8.0/13.0. Average score (-5.7)\n",
      "Win/lose count 12.0/21.0. Average score (-6.25)\n",
      "Win/lose count 14.0/21.0. Average score (-6.357142857142857)\n",
      "Win/lose count 8.0/17.0. Average score (-6.6875)\n",
      "Win/lose count 8.0/18.0. Average score (-7.055555555555555)\n",
      "Win/lose count 9.5/15.0. Average score (-6.9)\n",
      "Win/lose count 8.5/18.0. Average score (-7.136363636363637)\n",
      "Final score: -7.136363636363637\n"
     ]
    },
    {
     "data": {
      "text/html": [
       "<video alt=\"test\" controls>\n",
       "                <source src=\"data:video/mp4;base64,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\" type=\"video/mp4\" />\n",
       "             </video>"
      ],
      "text/plain": [
       "<IPython.core.display.HTML object>"
      ]
     },
     "execution_count": 16,
     "metadata": {},
     "output_type": "execute_result"
    }
   ],
   "source": [
    "# Initialize the game\n",
    "env = Environment(grid_size=size, max_time=T,temperature=temperature)\n",
    "\n",
    "# Initialize the agent!\n",
    "agent = RandomAgent()\n",
    "\n",
    "test(agent,env,epochs_test,prefix='random')\n",
    "HTML(display_videos('random0.mp4'))"
   ]
  },
  {
   "cell_type": "markdown",
   "metadata": {},
   "source": [
    "***\n",
    "## DQN"
   ]
  },
  {
   "cell_type": "markdown",
   "metadata": {},
   "source": [
    "Let us assume here that $T=\\infty$.\n",
    "\n",
    "***\n",
    "__Question 5__ Let $\\pi$ be a policy, show that:\n",
    "\n",
    "\\begin{equation*}\n",
    "Q^{\\pi}(s,a)=E_{(s',a')\\sim p(.|s,a)}[r(s,a)+\\gamma Q^{\\pi}(s',a')]\n",
    "\\end{equation*}\n",
    "\n",
    "Then, show that for the optimal policy $\\pi^*$ (we assume its existence), the following holds: \n",
    "\n",
    "\\begin{equation*}\n",
    "Q^{*}(s,a)=E_{s'\\sim \\pi^*(.|s,a)}[r(s,a)+\\gamma\\max_{a'}Q^{*}(s',a')].\n",
    "\\end{equation*}\n",
    "Finally, deduce that a plausible objective is:\n",
    "\n",
    "\\begin{equation*}\n",
    "\\mathcal{L}(\\theta)=E_{s' \\sim \\pi^*(.|s,a)}\\Vert r+\\gamma\\max\\max_{a'}Q(s',a',\\theta)-Q(s,a,\\theta)\\Vert^{2}.\n",
    "\\end{equation*}\n",
    "\n",
    "\n"
   ]
  },
  {
   "cell_type": "markdown",
   "metadata": {},
   "source": [
    "__Question 5 - Answers__\n",
    "\n",
    "a) As stated above the Q value function is defined by:\n",
    "\\begin{equation*}\n",
    "Q^\\pi(s,a)=E_{p^{\\pi}}[\\sum_{t\\leq T}\\gamma^{t}r(s_{t},a_{t})|s_{0}=s,a_{0}=a] \\>\n",
    "\\end{equation*}\n",
    "\n",
    "We can deduce:\n",
    "\\begin{equation*}\n",
    "Q^\\pi(s,a)=E_{p^{\\pi}}[r(s_{t},a_{t}) + \\gamma \\sum_{t\\leq T-1}\\gamma^{t}r(s_{t+1},a_{t+1})|s_{0}=s,a_{0}=a] \\>\n",
    "\\end{equation*}\n",
    "\\begin{equation*}\n",
    "Q^\\pi(s,a)=E_{p^{\\pi}}[r(s_{t},a_{t}) + \\gamma Q^\\pi(s_{t+1},a_{t+1})|s_{0}=s,a_{0}=a] \\>\n",
    "\\end{equation*}\n",
    "\n",
    "\\begin{equation*}\n",
    "Q^{\\pi}(s,a)=E_{(s',a')\\sim p(.|s,a)}[r(s,a)+\\gamma Q^{\\pi}(s',a')]\n",
    "\\end{equation*}\n",
    "\n",
    "b)\n",
    "\n",
    "By definition the optimal Q function is the Q function maximizing the reward, so:\n",
    "\\begin{equation*}\n",
    "Q^*(s,a)=\\max_{\\pi}Q^\\pi(s,a) \\> .\n",
    "\\end{equation*}\n",
    "\n",
    "Using the previous equation, we obtain:\n",
    "\\begin{equation*}\n",
    "Q^{*}(s,a)=E_{s'\\sim \\pi^*(.|s,a)}[r(s,a)+\\gamma\\max_{a'}Q^{*}(s',a')].\n",
    "\\end{equation*}\n",
    "\n"
   ]
  },
  {
   "cell_type": "markdown",
   "metadata": {},
   "source": [
    "***\n",
    "The DQN-learning algorithm relies on these derivations to train the parameters $\\theta$ of a Deep Neural Network:\n",
    "\n",
    "1. At the state $s_t$, select the action $a_t$ with best reward using $Q_t$ and store the results;\n",
    "\n",
    "2. Obtain the new state $s_{t+1}$ from the environment $p$;\n",
    "\n",
    "3. Store $(s_t,a_t,s_{t+1})$;\n",
    "\n",
    "4. Obtain $Q_{t+1}$ by minimizing  $\\mathcal{L}$ from a recovered batch from the previously stored results.\n",
    "\n",
    "***\n",
    "__Question 6__ Implement the class ```Memory``` that stores moves (in a replay buffer) via ```remember``` and provides a ```random_access``` to these. Specify a maximum memory size to avoid side effects. You can for example use a ```list()``` and set by default ```max_memory=100```."
   ]
  },
  {
   "cell_type": "code",
   "execution_count": 43,
   "metadata": {},
   "outputs": [],
   "source": [
    "class Memory(object):\n",
    "    def __init__(self, max_memory=100):\n",
    "        self.max_memory = max_memory\n",
    "        self.memory = list()\n",
    "\n",
    "    def remember(self, m):\n",
    "        self.memory.append(m)\n",
    "        if len(self.memory) > self.max_memory: \n",
    "            self.memory = self.memory[1:]\n",
    "\n",
    "    def random_access(self):\n",
    "        minibatch = random.sample(self.memory, 1)\n",
    "        return minibatch"
   ]
  },
  {
   "cell_type": "markdown",
   "metadata": {},
   "source": [
    "***\n",
    "The pipeline we will use for training is given below:"
   ]
  },
  {
   "cell_type": "code",
   "execution_count": 18,
   "metadata": {},
   "outputs": [],
   "source": [
    "def train(agent,env,epoch,prefix=''):\n",
    "    # Number of won games\n",
    "    score = 0\n",
    "    loss = 0\n",
    "\n",
    "    for e in range(epoch):\n",
    "        # At each epoch, we restart to a fresh game and get the initial state\n",
    "        state = env.reset()\n",
    "        # This assumes that the games will terminate\n",
    "        game_over = False\n",
    "\n",
    "        win = 0\n",
    "        lose = 0\n",
    "\n",
    "        while not game_over:\n",
    "            # The agent performs an action\n",
    "            action = agent.act(state)\n",
    "\n",
    "            # Apply an action to the environment, get the next state, the reward\n",
    "            # and if the games end\n",
    "            prev_state = state\n",
    "            state, reward, game_over = env.act(action)\n",
    "\n",
    "            # Update the counters\n",
    "            if reward > 0:\n",
    "                win = win + reward\n",
    "            if reward < 0:\n",
    "                lose = lose -reward\n",
    "\n",
    "            # Apply the reinforcement strategy\n",
    "            loss = agent.reinforce(prev_state, state,  action, reward, game_over)\n",
    "\n",
    "        # Save as a mp4\n",
    "        if e % 10 == 0:\n",
    "            env.draw(prefix+str(e))\n",
    "\n",
    "        # Update stats\n",
    "        score += win-lose\n",
    "\n",
    "        print(\"Epoch {:03d}/{:03d} | Loss {:.4f} | Win/lose count {}/{} ({})\"\n",
    "              .format(e, epoch, loss, win, lose, win-lose))\n",
    "        agent.save(name_weights=prefix+'model.h5',name_model=prefix+'model.json')"
   ]
  },
  {
   "cell_type": "markdown",
   "metadata": {},
   "source": [
    "***\n",
    "__Question 7__ Implement the DQN training algorithm using a cascade of fully connected layers. You can use different learning rate, batch size or memory size parameters. In particular, the loss might oscillate while the player will start to win the games. You have to find a good criterium."
   ]
  },
  {
   "cell_type": "code",
   "execution_count": 53,
   "metadata": {},
   "outputs": [],
   "source": [
    "class DQN(Agent):\n",
    "    def __init__(self, grid_size,  epsilon = 0.1, memory_size=100, batch_size = 16,n_state=2):\n",
    "        super(DQN, self).__init__(epsilon = epsilon)\n",
    "\n",
    "        # Discount for Q learning\n",
    "        self.discount = 0.99\n",
    "        \n",
    "        self.grid_size = grid_size\n",
    "        \n",
    "        # number of state\n",
    "        self.n_state = n_state\n",
    "\n",
    "        # Memory\n",
    "        self.memory = Memory(memory_size)\n",
    "        \n",
    "        # Batch size when learning\n",
    "        self.batch_size = batch_size\n",
    "        \n",
    "        self.dim = 5 * 5 * self.n_state\n",
    "        \n",
    "    def learned_act(self, s):\n",
    "        if np.random.rand() <= self.epsilon:\n",
    "            return np.random.randint(4)\n",
    "        \n",
    "        predicted_Q = self.model.predict(s.reshape(1,5,5,self.n_state))\n",
    "        self.avgQ = np.mean(predicted_Q)\n",
    "        return np.argmax(predicted_Q)\n",
    "\n",
    "\n",
    "    def reinforce(self, s_, n_s_, a_, r_, game_over_):\n",
    "        # Two steps: first memorize the states, second learn from the pool\n",
    "        #assert (len(s_)== 5*5 * self.n_state and len(n_s)==5*5 *self.n_state)\n",
    "        \n",
    "        self.memory.remember([s_, n_s_, a_, r_, game_over_])\n",
    "        \n",
    "        input_states = np.zeros((self.batch_size, 5,5, self.n_state))\n",
    "        target_q = np.zeros((self.batch_size, self.n_action))\n",
    "\n",
    "        #true_batch = min(self.batch_size, len(self.memory))\n",
    "        \n",
    "        for i in range(self.batch_size):\n",
    "            state_, n_state_, action_, reward_, game_over_ = self.memory.random_access()[0]\n",
    "\n",
    "            input_states[i] = state_\n",
    "            #k = state_.reshape(1, self.dim)\n",
    "            \n",
    "            # get artificial targets for the actions\n",
    "            target_q[i] = self.model.predict(state_.reshape(1,5,5, self.n_state))\n",
    "\n",
    "            # updating real target for action of interest `a_`\n",
    "            if game_over_:\n",
    "                target_q[i][action_] = reward_\n",
    "            else:\n",
    "                #maxi = np.max(self.model.predict(n_state_.reshape(1, 5, 5, self.n_state)))\n",
    "                target_q[i][action_] = (reward_ + self.discount * \n",
    "                                        np.max(self.model.predict(n_state_.reshape(1, 5, 5, self.n_state))))\n",
    "\n",
    " \n",
    "        # HINT: Clip the target to avoid exploiding gradients.. -- clipping is a bit tighter\n",
    "        target_q = np.clip(target_q, -3, 3)\n",
    "\n",
    "        l = self.model.train_on_batch((input_states), target_q)\n",
    "        \n",
    "        return l\n",
    "\n",
    "    def save(self,name_weights='model.h5',name_model='model.json'):\n",
    "        self.model.save_weights(name_weights, overwrite=True)\n",
    "        with open(name_model, \"w\") as outfile:\n",
    "            json.dump(self.model.to_json(), outfile)\n",
    "            \n",
    "    def load(self,name_weights='model.h5',name_model='model.json'):\n",
    "        with open(name_model, \"r\") as jfile:\n",
    "            model = model_from_json(json.load(jfile))\n",
    "        model.load_weights(name_weights)\n",
    "        model.compile(\"sgd\", \"mse\")\n",
    "        self.model = model\n",
    "\n",
    "            \n",
    "class DQN_FC(DQN):\n",
    "    def __init__(self, *args, lr=0.1,**kwargs):\n",
    "        super(DQN_FC, self).__init__( *args,**kwargs)\n",
    "\n",
    "        input_shape = (5,5,self.n_state,)\n",
    "        model = Sequential()\n",
    "        model.add(Dense(512, activation='relu', input_shape=input_shape))\n",
    "        model.add(Flatten())\n",
    "        model.add(Dense(256, activation='relu'))\n",
    "        model.add(Dense(self.n_action, activation='linear'))\n",
    "        \n",
    "        model.compile(sgd(lr=lr, decay=1e-4, momentum=0.0), \"mse\")\n",
    "        \n",
    "        self.model = model\n",
    "        "
   ]
  },
  {
   "cell_type": "code",
   "execution_count": 20,
   "metadata": {},
   "outputs": [
    {
     "name": "stdout",
     "output_type": "stream",
     "text": [
      "WARNING:tensorflow:From /Users/victort-d/anaconda/lib/python3.6/site-packages/keras/backend/tensorflow_backend.py:1264: calling reduce_prod (from tensorflow.python.ops.math_ops) with keep_dims is deprecated and will be removed in a future version.\n",
      "Instructions for updating:\n",
      "keep_dims is deprecated, use keepdims instead\n",
      "WARNING:tensorflow:From /Users/victort-d/anaconda/lib/python3.6/site-packages/keras/backend/tensorflow_backend.py:1349: calling reduce_mean (from tensorflow.python.ops.math_ops) with keep_dims is deprecated and will be removed in a future version.\n",
      "Instructions for updating:\n",
      "keep_dims is deprecated, use keepdims instead\n",
      "WARNING:tensorflow:Variable *= will be deprecated. Use variable.assign_mul if you want assignment to the variable value or 'x = x * y' if you want a new python Tensor object.\n",
      "Epoch 000/011 | Loss 0.0034 | Win/lose count 2.0/5.0 (-3.0)\n",
      "Epoch 001/011 | Loss 0.0049 | Win/lose count 1.5/4.0 (-2.5)\n",
      "Epoch 002/011 | Loss 0.0067 | Win/lose count 9.5/4.0 (5.5)\n",
      "Epoch 003/011 | Loss 0.0550 | Win/lose count 1.5/0 (1.5)\n",
      "Epoch 004/011 | Loss 0.0040 | Win/lose count 0.5/1.0 (-0.5)\n",
      "Epoch 005/011 | Loss 0.0019 | Win/lose count 3.5/5.0 (-1.5)\n",
      "Epoch 006/011 | Loss 0.0060 | Win/lose count 5.0/8.0 (-3.0)\n",
      "Epoch 007/011 | Loss 0.0068 | Win/lose count 6.0/8.0 (-2.0)\n",
      "Epoch 008/011 | Loss 0.0055 | Win/lose count 1.5/3.0 (-1.5)\n",
      "Epoch 009/011 | Loss 0.0012 | Win/lose count 2.5/4.0 (-1.5)\n",
      "Epoch 010/011 | Loss 0.0036 | Win/lose count 8.0/1.0 (7.0)\n"
     ]
    },
    {
     "data": {
      "text/html": [
       "<video alt=\"test\" controls>\n",
       "                <source src=\"data:video/mp4;base64,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\" type=\"video/mp4\" />\n",
       "             </video>"
      ],
      "text/plain": [
       "<IPython.core.display.HTML object>"
      ]
     },
     "execution_count": 20,
     "metadata": {},
     "output_type": "execute_result"
    }
   ],
   "source": [
    "env = Environment(grid_size=size, max_time=T, temperature=0.3)\n",
    "agent = DQN_FC(size, lr=.1, epsilon = 0.1, memory_size=2000, batch_size = 32)\n",
    "train(agent, env, epochs_train, prefix='fc_train')\n",
    "HTML(display_videos('fc_train10.mp4'))"
   ]
  },
  {
   "cell_type": "code",
   "execution_count": 21,
   "metadata": {},
   "outputs": [
    {
     "name": "stdout",
     "output_type": "stream",
     "text": [
      "<class 'int'>\n",
      "3\n"
     ]
    }
   ],
   "source": [
    "E = Memory(100)\n",
    "rand1 = np.zeros(5)\n",
    "E.remember(rand1)\n",
    "rand2 = np.ones(5)\n",
    "E.remember([int(0)]*5)\n",
    "E.remember([1]*5)\n",
    "E.remember([2]*5)\n",
    "E.remember([3]*5)\n",
    "j_0, j_1, j_2, j_3, j_4 = E.random_access()[0]\n",
    "print(type(j_0))\n",
    "print(j_0)"
   ]
  },
  {
   "cell_type": "markdown",
   "metadata": {},
   "source": [
    "***\n",
    "***\n",
    "__Question 8__ Implement the DQN training algorithm using a CNN (for example, 2 convolutional layers and one final fully connected layer)."
   ]
  },
  {
   "cell_type": "code",
   "execution_count": 54,
   "metadata": {},
   "outputs": [],
   "source": [
    "class DQN_CNN(DQN):\n",
    "    def __init__(self, *args,lr=0.1,**kwargs):\n",
    "        super(DQN_CNN, self).__init__(*args,**kwargs)\n",
    "        \n",
    "        input_shape = (5,5,self.n_state,)\n",
    "        model = Sequential()\n",
    "        model.add(Conv2D(64,kernel_size = (3,3), activation='relu', input_shape=input_shape))\n",
    "        model.add(Conv2D(64, kernel_size = (3,3), activation='relu'))\n",
    "        \n",
    "        model.add(MaxPooling2D(pool_size=(1, 1)))\n",
    "        model.add(Flatten())\n",
    "        model.add(Dense(self.n_action, activation='softmax'))\n",
    "        \n",
    "        model.compile(sgd(lr=lr, decay=1e-4, momentum=0.0), \"mse\")\n",
    "        self.model = model"
   ]
  },
  {
   "cell_type": "code",
   "execution_count": 23,
   "metadata": {},
   "outputs": [
    {
     "name": "stdout",
     "output_type": "stream",
     "text": [
      "Epoch 000/011 | Loss 0.0019 | Win/lose count 2.5/3.0 (-0.5)\n",
      "Epoch 001/011 | Loss 0.0701 | Win/lose count 1.5/2.0 (-0.5)\n",
      "Epoch 002/011 | Loss 0.0026 | Win/lose count 4.5/6.0 (-1.5)\n",
      "Epoch 003/011 | Loss 0.0048 | Win/lose count 2.5/3.0 (-0.5)\n",
      "Epoch 004/011 | Loss 0.0044 | Win/lose count 1.5/2.0 (-0.5)\n",
      "Epoch 005/011 | Loss 0.0016 | Win/lose count 2.5/8.0 (-5.5)\n",
      "Epoch 006/011 | Loss 0.0037 | Win/lose count 5.0/4.0 (1.0)\n",
      "Epoch 007/011 | Loss 0.0043 | Win/lose count 5.5/3.0 (2.5)\n",
      "Epoch 008/011 | Loss 0.0588 | Win/lose count 3.5/1.0 (2.5)\n",
      "Epoch 009/011 | Loss 0.0753 | Win/lose count 5.0/1.0 (4.0)\n",
      "Epoch 010/011 | Loss 0.0021 | Win/lose count 3.5/2.0 (1.5)\n"
     ]
    },
    {
     "data": {
      "text/html": [
       "<video alt=\"test\" controls>\n",
       "                <source src=\"data:video/mp4;base64,AAAAIGZ0eXBpc29tAAACAGlzb21pc28yYXZjMW1wNDEAAAAIZnJlZQAAFx1tZGF0AAACrQYF//+p3EXpvebZSLeWLNgg2SPu73gyNjQgLSBjb3JlIDE1MiByMjg1NCBlOWE1OTAzIC0gSC4yNjQvTVBFRy00IEFWQyBjb2RlYyAtIENvcHlsZWZ0IDIwMDMtMjAxNyAtIGh0dHA6Ly93d3cudmlkZW9sYW4ub3JnL3gyNjQuaHRtbCAtIG9wdGlvbnM6IGNhYmFjPTEgcmVmPTMgZGVibG9jaz0xOjA6MCBhbmFseXNlPTB4MToweDExMSBtZT1oZXggc3VibWU9NyBwc3k9MSBwc3lfcmQ9MS4wMDowLjAwIG1peGVkX3JlZj0xIG1lX3JhbmdlPTE2IGNocm9tYV9tZT0xIHRyZWxsaXM9MSA4eDhkY3Q9MCBjcW09MCBkZWFkem9uZT0yMSwxMSBmYXN0X3Bza2lwPTEgY2hyb21hX3FwX29mZnNldD00IHRocmVhZHM9NiBsb29rYWhlYWRfdGhyZWFkcz0xIHNsaWNlZF90aHJlYWRzPTAgbnI9MCBkZWNpbWF0ZT0xIGludGVybGFjZWQ9MCBibHVyYXlfY29tcGF0PTAgY29uc3RyYWluZWRfaW50cmE9MCBiZnJhbWVzPTMgYl9weXJhbWlkPTIgYl9hZGFwdD0xIGJfYmlhcz0wIGRpcmVjdD0xIHdlaWdodGI9MSBvcGVuX2dvcD0wIHdlaWdodHA9MiBrZXlpbnQ9MjUwIGtleWludF9taW49MjUgc2NlbmVjdXQ9NDAgaW50cmFfcmVmcmVzaD0wIHJjX2xvb2thaGVhZD00MCByYz1jcmYgbWJ0cmVlPTEgY3JmPTIzLjAgcWNvbXA9MC42MCBxcG1pbj0wIHFwbWF4PTY5IHFwc3RlcD00IGlwX3JhdGlvPTEuNDAgYXE9MToxLjAwAIAAAALhZYiEADf//vaH+BTZWBP+Wb/9DX/cj9uPrP1xYyEE31qvIejAGS+1H+b/rFFs6Z6UB/fgCJQAc24ZwpIoZ/8CmWxwvgUK/HEacX14Wn+DO2SLIzP24huBnaS2NYpP+tGVXiRkZVwdw7n9t7WukRE+9DmSqThr4K1rA0mpRX1Ju3Bzmi1q2iNiMEFmAHDtbD34EIIMzB/hWwoI/Kp5jrkwNH9nxMZ2M8B47v9bWJfap5nawYhZORT7Y95PWNt1iWnqeaKgIunGjnUtiFc7IBIFji4xT3GUOQ8bsHPqcx6UbUMisRPO0XAjoWu2VOeURRpCVRZVGGpxYIRjbOACPFUBTvkbaYq9bE0rBvJS+x/93Oy+5kDyuRILH0nIR2YRnXfNKWsEJvMoR8860niXUoMr1vws/t4hALNfMrdb+NCB3RdR9oKRPNAR6AXMGSAUHaI0AAXHzskLE7UHRdhV4IiIZYNc3VTQAxIAW+2LaVu3fTAjRNKAsXnPz8BHjsWTPmYlmIiZYlrJDZk5WEIGD1HrAHn9VEDfEnOi8RjKUZH4duYCF5UbxogxZgDMAo9ZiL2mfvgWRKEVjolHvGK9vV503QFADw9L4RP84qdPfxeBeZH7HAQW/7w6IJJ5pe/6td1yPn2ekZuctDSMhESgoVHepFeEw4vY1V+kENfVRQdPOY4UNJpTMpB+L/SYT7rAI3300JbXNvc69SsF6W6TYEGKsX7YPsTV2JJBACnGTUnRPZc6bRE0/6QgeBZp1ocj1FoBg+srzRB6d8bRwjvu4Z+as/MKb9gBZHqkBQJFnc6xmL9YpFgDqSJr5HFfExGTXYBHF9EfJC4NOAKtMDktyuoB6iTycqAB6IF10zP1aC/SiX3sMN8NZYXGtmZVxuUlpUaM20wJh1ynREjYmujJ7PT9xtvEy+OKZsJHNpEQ7ahbCkpENlKvcafaAiyrIJulg9mkk3vN8/KvvnYSFH2Vg4AAV0EAAAAgQZojbEN//qeEAAxPvs+9G114FNgdK/Apls5PgUKURKYAAAASQZ5BeIV/AAo6jUCsWI1zRFy3AAAAEAGeYmpCvwAKhSjeaYq2zsAAAAAcQZplSahBaJlMFPDP/p4QAB/fX39NlC5dbNXL0QAAABABnoRqQr8ABsCO3OtDDBRBAAAAGUGahknhClJlMCG//qeEAAVH3U/UcaEiD8EAAAAZQZqnSeEOiZTAhv/+p4QAA3Lq0ghE/y6PgQAAABlBmshJ4Q8mUwId//6plgACt/IM0AekvttQAAAAJUGa7EnhDyZTAhv//qeEAAWz4c/ApsDp34FMtnZ8ChSn2bLvbHgAAAAVQZ8KRRE8L/8AA2CtL10V8fu1iuphAAAAEAGfKXRCvwAEd3HeVsofKYAAAAAPAZ8rakK/AASXYjyYHr7HAAAAJ0GbMEmoQWiZTAhv//6nhAAI98kVzmWVz3j8ClS2fgUzsDF2863R9QAAABBBn05FESwv/wAFZoEFKG8ZAAAADwGfbXRCvwAHFsVjCFX7QQAAABABn29qQr8AB0GYPJgevmKAAAAAGEGbckmoQWyZTBRMN//+p4QADd+wf5gNgAAAAA8Bn5FqQr8AC1xtd33fKCEAAAAYQZuTSeEKUmUwIb/+p4QACSj5jyMT/LgVAAAAGUGbtEnhDomUwId//qmWAATAo51oer75ScAAAAAZQZvXSeEPJlMCHf/+qZYABMfjz9+yDcVd4QAAAA9Bn/VFETwr/wAHmB/zfuAAAAAOAZ4WakK/AAeawA+O8XcAAAAXQZoZSahBaJlMFPDv/qmWAAHzHT8raukAAAAQAZ44akK/AATqyjvZ4+6cgAAAABtBmj1J4QpSZTAh3/6plgADGe0v6/qtQshS6f8AAAAQQZ5bRTRML/8AA5/8PXXYwAAAABABnnp0Qr8ABPk1oyS3+1eBAAAADwGefGpCvwAE1ta7vu+8wQAAABNBmmFJqEFomUwId//+qZYAAJWAAAAADEGen0URLC//AACygAAAABABnr50Qr8ABNhAHP60DozBAAAAEAGeoGpCvwAE1ta7rIYdGYAAAAATQZqlSahBbJlMCHf//qmWAACVgQAAAAxBnsNFFSwv/wAAsoAAAAAQAZ7idEK/AATYQBz+tA6MwQAAABABnuRqQr8ABNbWu6yGHRmBAAAAGkGa6EmoQWyZTAh3//6plgAB8x0/KaMfrWPBAAAAEkGfBkUVLCv/AATXp13mMHawjQAAAA8BnydqQr8ABNZZDEaVRGAAAAApQZssSahBbJlMCHf//qmWAATH55HMssYVV4FM1xU8CiT15X1bdFl0keAAAAAWQZ9KRRUsL/8ABa6BFKR0zlip76t5gQAAAA8Bn2l0Qr8ABR8ydwbJeqEAAAAQAZ9rakK/AAeZnzG6HJB4+AAAABNBm3BJqEFsmUwId//+qZYAAJWBAAAADEGfjkUVLC//AACygQAAABABn610Qr8AB4VDey6r+GXBAAAAEAGfr2pCvwAHhUN7FaPuUYAAAAAaQZuzSahBbJlMCHf//qmWAATH48/fsg3FXeAAAAAPQZ/RRRUsK/8AB5gf837hAAAADQGf8mpCvwAHmsCga6YAAAAcQZv3SahBbJlMCHf//qmWAAMZ7S/r+q1CyFLp/gAAABBBnhVFFSwv/wADoJ07/OyJAAAADwGeNHRCvwAE+jGLgPzvIAAAABABnjZqQr8ABPmvnOtDDDDBAAAAE0GaO0moQWyZTAh3//6plgAAlYEAAAAMQZ5ZRRUsL/8AALKAAAAAEAGeeHRCvwAE2EAc/rQOjMEAAAAQAZ56akK/AATW1rushh0ZgAAAABNBmn9JqEFsmUwId//+qZYAAJWBAAAADEGenUUVLC//AACygQAAABABnrx0Qr8ABNhAHP60DozAAAAAEAGevmpCvwAE1ta7rIYdGYAAAAATQZqjSahBbJlMCHf//qmWAACVgQAAAAxBnsFFFSwv/wAAsoAAAAAQAZ7gdEK/AATYQBz+tA6MwQAAAA8BnuJqQr8AAxucm6z1aTMAAAATQZrnSahBbJlMCHf//qmWAACVgQAAAAxBnwVFFSwv/wAAsoEAAAAQAZ8kdEK/AATYQBz+tA6MwQAAABABnyZqQr8ABNbWu6yGHRmBAAAAHEGbK0moQWyZTAh3//6plgADFQWYtM0B3fRj2KkAAAAQQZ9JRRUsL/8AA6CdO/zsiAAAAA8Bn2h0Qr8ABNhAHQnJvMEAAAAQAZ9qakK/AAT6x5bhs2tVgAAAABNBm29JqEFsmUwId//+qZYAAJWAAAAADEGfjUUVLC//AACygQAAABABn6x0Qr8AB5rFYvP4HOXBAAAAEAGfrmpCvwAHmNQ5/mW8XcEAAAAcQZuzSahBbJlMCHf//qmWAAMZ7S/r+q1CyFLp/gAAABBBn9FFFSwv/wADoJ07/OyIAAAADwGf8HRCvwAHmsVjCFX0wQAAAA8Bn/JqQr8ABPm26UaQ8wsAAAATQZv3SahBbJlMCHf//qmWAACVgAAAAAxBnhVFFSwv/wAAsoEAAAAQAZ40dEK/AATYQBz+tA6MwAAAABABnjZqQr8ABNbWu6yGHRmBAAAAE0GaO0moQWyZTAh3//6plgAAlYEAAAAMQZ5ZRRUsL/8AALKAAAAAEAGeeHRCvwAE2EAc/rQOjMEAAAAQAZ56akK/AATW1rushh0ZgAAAAB1Bmn1JqEFsmUwUTDv//qmWAAMVBZi0zQHd9GPYqQAAABABnpxqQr8ABPrHluGza1WBAAAAGEGagUnhClJlMCHf/qmWAAMZ7S/r+u0aTQAAABBBnr9FNEwv/wADoJ07/OyIAAAADwGe3nRCvwAHmsVjCFX0wQAAAA8BnsBqQr8ABPm26UaQ8wsAAAAZQZrFSahBaJlMCHf//qmWAAMVc6P99pfeTQAAABBBnuNFESwv/wADoJ07/OyIAAAADwGfAnRCvwAE2EAdCcm8wQAAABABnwRqQr8ABPrHluGza1WBAAAAE0GbCUmoQWyZTAh3//6plgAAlYEAAAATQZ8nRRUsL/8AA6ES3KZj5iIscQAAABABn0Z0Qr8ABPk6k8r8lO2QAAAAEAGfSGpCvwAFHUaJkTStPUAAAAAcQZtNSahBbJlMCHf//qmWAAMZ7S/r+q1CyFLp/wAAABBBn2tFFSwv/wADoJ07/OyIAAAADwGfinRCvwAHmsVjCFX0wAAAAA8Bn4xqQr8ABPm26UaQ8wsAAAAdQZuRSahBbJlMCG///qeEAAk0j5ZigxCtX/Xv21cAAAAQQZ+vRRUsL/8ABYqA06dVSQAAAA8Bn850Qr8ABNhAHQnJvMAAAAAQAZ/QakK/AAdtngXX9uIxwAAAABpBm9JJqEFsmUwId//+qZYABKfjzpZ0dTzLwQAAABxBm/ZJ4QpSZTAhv/6nhAAI98dPuuCBbn3m1ixgAAAAEEGeFEU0TC//AAVllioFky8AAAAQAZ4zdEK/AAc/izPK/JTm6QAAAA8BnjVqQr8ABNg1gXX+TsAAAAAcQZo6SahBaJlMCG///qeEAAlo+ZqbNuM3up8crQAAABVBnlhFESwv/wAFroEE82Ibumcts9UAAAAQAZ53dEK/AATV2pPK/JTuMAAAABABnnlqQr8AB5meBdf24jBhAAAAGkGae0moQWyZTAhv//6nhAAJd8dPqONCQ9lAAAAAEUGan0nhClJlMCG//qeEAAEnAAAADEGevUU0TC//AACygQAAABABntx0Qr8ABOrKO/AB905AAAAAEAGe3mpCvwAHmNQ5/mW8XcAAAAAaQZrASahBaJlMCHf//qmWAATBFhujEI59neEAAAAeQZriSeEKUmUwURLDv/6plgAE4RYjlEjH5mfgWoJpAAAAEAGfAWpCvwAHxVwa48VbcuEAAAAaQZsGSeEOiZTAh3/+qZYABMFTiP8BAH9/Y/UAAAAQQZ8kRRU8L/8ABa2WKhBtkQAAABABn0N0Qr8AB5ozIjsWYppJAAAADwGfRWpCvwAHw5w2ByovgQAAABNBm0pJqEFomUwId//+qZYAAJWBAAAADEGfaEURLC//AACygAAAAA8Bn4d0Qr8AB8WwNDznmIEAAAAPAZ+JakK/AAfDnDRK55iBAAAAE0GbjkmoQWyZTAh3//6plgAAlYAAAAAMQZ+sRRUsL/8AALKAAAAADwGfy3RCvwAHxbA0POeYgQAAAA8Bn81qQr8AB8OcNErnmIEAAAASQZvSSahBbJlMCG///qeEAAEnAAAADEGf8EUVLC//AACygAAAAA8Bng90Qr8AB8WwNDznmIEAAAAPAZ4RakK/AAfDnDRK55iBAAAAG0GaE0moQWyZTAh3//6plgAEx+SR/5HMOkGxwAAAABJBmjdJ4QpSZTAh3/6plgAAlYAAAAAMQZ5VRTRML/8AALKBAAAAEAGedHRCvwAE6so78AH3TkAAAAAQAZ52akK/AATqyjvZ4+6cgQAAABNBmntJqEFomUwId//+qZYAAJWBAAAADEGemUURLC//AACygAAAABABnrh0Qr8ABOrKO/AB905BAAAAEAGeumpCvwAE6so72ePunIAAAAAcQZq/SahBbJlMCHf//qmWAATgo6IFmgO76MewCwAAABBBnt1FFSwv/wAF0ZYJ8fbBAAAAEAGe/HRCvwAHxirVeBFeVIAAAAAPAZ7+akK/AAfGvmh1o3aAAAAAGEGa40moQWyZTAh3//6plgAE4X7tROQABQAAABBBnwFFFSwv/wAF0oEFKG4YAAAADwGfIHRCvwAHxL8XAfmywQAAABABnyJqQr8AB8QXnOtDDAfAAAAAGUGbJ0moQWyZTAh3//6plgAE4VOH++0vu4cAAAAQQZ9FRRUsL/8ABdGWCfH2wQAAABABn2R0Qr8AB8Yq1XgRXlSBAAAADwGfZmpCvwAHxr5odaN2gQAAABJBm2tJqEFsmUwIb//+p4QAAScAAAAMQZ+JRRUsL/8AALKAAAAAEAGfqHRCvwAHxsViqmI6ZfEAAAAQAZ+qakK/AAfE1DnFqjpl8AAAABpBm6xJqEFsmUwId//+qZYABOEWG4ONHI2n0gAAABJBm9BJ4QpSZTAh3/6plgAAlYEAAAATQZ/uRTRML/8ABa8ls1Myy5DUjQAAABABng10Qr8AB5eGAyS3+yzBAAAAEAGeD2pCvwAHmZ4Q8aGtAYAAAAATQZoUSahBaJlMCHf//qmWAACVgAAAAAxBnjJFESwv/wAAsoEAAAAPAZ5RdEK/AAfFsDQ855iBAAAADwGeU2pCvwAHw5w0SueYgQAAABNBmlhJqEFsmUwId//+qZYAAJWBAAAADEGedkUVLC//AACygAAAABABnpV0Qr8AC/WVd1fjvDfBAAAADwGel2pCvwAHw5w0SueYgQAAABpBmptJqEFsmUwId//+qZYABMfjz9+yDcVd4AAAABJBnrlFFSwr/wAHxVwa49714IEAAAAPAZ7aakK/AAfEH9UigSwnAAAAGUGa30moQWyZTAhv//6nhAAJqoO7t9g/YBUAAAAQQZ79RRUsL/8ABdKBBShuGQAAAA8Bnxx0Qr8ABPoxi4D87yAAAAAQAZ8eakK/AAfFmDyYHr5UgAAAABlBmwFJqEFsmUwUTDf//qeEAAmqg7utVvw5AAAAEAGfIGpCvwAHxBec60MMB8AAAAARQZslSeEKUmUwIZ/+nhAABH0AAAAMQZ9DRTRML/8AALKAAAAAEAGfYnRCvwAE6so78AH3TkEAAAAQAZ9kakK/AAeY1Dn+ZbxdwQAAABpBm2lLqEIQWiRGCCgH8gH9h4AhX/44QAARcQAAACNBn4dFESwv/wIB3OpL2zMKuYDoGrWoXAlAGWiTwt8ykzScMQAAABABn6Z0Qr8ABOrKO/AB905AAAAAJQGfqGpCvwKvY+1BxN2qw0km5aqGByy1u80qIJos2fwoqXoM/sAAAAxIbW9vdgAAAGxtdmhkAAAAAAAAAAAAAAAAAAAD6AAAH5AAAQAAAQAAAAAAAAAAAAAAAAEAAAAAAAAAAAAAAAAAAAABAAAAAAAAAAAAAAAAAABAAAAAAAAAAAAAAAAAAAAAAAAAAAAAAAAAAAAAAAAAAgAAC3J0cmFrAAAAXHRraGQAAAADAAAAAAAAAAAAAAABAAAAAAAAH5AAAAAAAAAAAAAAAAAAAAAAAAEAAAAAAAAAAAAAAAAAAAABAAAAAAAAAAAAAAAAAABAAAAAARAAAAEQAAAAAAAkZWR0cwAAABxlbHN0AAAAAAAAAAEAAB+QAAAEAAABAAAAAArqbWRpYQAAACBtZGhkAAAAAAAAAAAAAAAAAAAyAAABlABVxAAAAAAALWhkbHIAAAAAAAAAAHZpZGUAAAAAAAAAAAAAAABWaWRlb0hhbmRsZXIAAAAKlW1pbmYAAAAUdm1oZAAAAAEAAAAAAAAAAAAAACRkaW5mAAAAHGRyZWYAAAAAAAAAAQAAAAx1cmwgAAAAAQAAClVzdGJsAAAAlXN0c2QAAAAAAAAAAQAAAIVhdmMxAAAAAAAAAAEAAAAAAAAAAAAAAAAAAAAAARABEABIAAAASAAAAAAAAAABAAAAAAAAAAAAAAAAAAAAAAAAAAAAAAAAAAAAAAAAAAAAGP//AAAAL2F2Y0MB9AAN/+EAF2f0AA2RmygiEdCAAAADAIAAABkHihTLAQAFaOvjxEgAAAAYc3R0cwAAAAAAAAABAAAAygAAAgAAAAAUc3RzcwAAAAAAAAABAAAAAQAABiBjdHRzAAAAAAAAAMIAAAABAAAEAAAAAAEAAAgAAAAAAgAAAgAAAAABAAAGAAAAAAEAAAIAAAAAAwAABAAAAAABAAAKAAAAAAEAAAQAAAAAAQAAAAAAAAABAAACAAAAAAEAAAoAAAAAAQAABAAAAAABAAAAAAAAAAEAAAIAAAAAAQAABgAAAAABAAACAAAAAAIAAAQAAAAAAQAACAAAAAACAAACAAAAAAEAAAYAAAAAAQAAAgAAAAABAAAKAAAAAAEAAAQAAAAAAQAAAAAAAAABAAACAAAAAAEAAAoAAAAAAQAABAAAAAABAAAAAAAAAAEAAAIAAAAAAQAACgAAAAABAAAEAAAAAAEAAAAAAAAAAQAAAgAAAAABAAAIAAAAAAIAAAIAAAAAAQAACgAAAAABAAAEAAAAAAEAAAAAAAAAAQAAAgAAAAABAAAKAAAAAAEAAAQAAAAAAQAAAAAAAAABAAACAAAAAAEAAAgAAAAAAgAAAgAAAAABAAAKAAAAAAEAAAQAAAAAAQAAAAAAAAABAAACAAAAAAEAAAoAAAAAAQAABAAAAAABAAAAAAAAAAEAAAIAAAAAAQAACgAAAAABAAAEAAAAAAEAAAAAAAAAAQAAAgAAAAABAAAKAAAAAAEAAAQAAAAAAQAAAAAAAAABAAACAAAAAAEAAAoAAAAAAQAABAAAAAABAAAAAAAAAAEAAAIAAAAAAQAACgAAAAABAAAEAAAAAAEAAAAAAAAAAQAAAgAAAAABAAAKAAAAAAEAAAQAAAAAAQAAAAAAAAABAAACAAAAAAEAAAoAAAAAAQAABAAAAAABAAAAAAAAAAEAAAIAAAAAAQAACgAAAAABAAAEAAAAAAEAAAAAAAAAAQAAAgAAAAABAAAKAAAAAAEAAAQAAAAAAQAAAAAAAAABAAACAAAAAAEAAAYAAAAAAQAAAgAAAAABAAAKAAAAAAEAAAQAAAAAAQAAAAAAAAABAAACAAAAAAEAAAoAAAAAAQAABAAAAAABAAAAAAAAAAEAAAIAAAAAAQAACgAAAAABAAAEAAAAAAEAAAAAAAAAAQAAAgAAAAABAAAKAAAAAAEAAAQAAAAAAQAAAAAAAAABAAACAAAAAAEAAAoAAAAAAQAABAAAAAABAAAAAAAAAAEAAAIAAAAAAQAABAAAAAABAAAKAAAAAAEAAAQAAAAAAQAAAAAAAAABAAACAAAAAAEAAAoAAAAAAQAABAAAAAABAAAAAAAAAAEAAAIAAAAAAQAABAAAAAABAAAKAAAAAAEAAAQAAAAAAQAAAAAAAAABAAACAAAAAAEAAAQAAAAAAQAABgAAAAABAAACAAAAAAEAAAoAAAAAAQAABAAAAAABAAAAAAAAAAEAAAIAAAAAAQAACgAAAAABAAAEAAAAAAEAAAAAAAAAAQAAAgAAAAABAAAKAAAAAAEAAAQAAAAAAQAAAAAAAAABAAACAAAAAAEAAAoAAAAAAQAABAAAAAABAAAAAAAAAAEAAAIAAAAAAQAABAAAAAABAAAKAAAAAAEAAAQAAAAAAQAAAAAAAAABAAACAAAAAAEAAAoAAAAAAQAABAAAAAABAAAAAAAAAAEAAAIAAAAAAQAACgAAAAABAAAEAAAAAAEAAAAAAAAAAQAAAgAAAAABAAAKAAAAAAEAAAQAAAAAAQAAAAAAAAABAAACAAAAAAEAAAoAAAAAAQAABAAAAAABAAAAAAAAAAEAAAIAAAAAAQAACgAAAAABAAAEAAAAAAEAAAAAAAAAAQAAAgAAAAABAAAEAAAAAAEAAAoAAAAAAQAABAAAAAABAAAAAAAAAAEAAAIAAAAAAQAACgAAAAABAAAEAAAAAAEAAAAAAAAAAQAAAgAAAAABAAAKAAAAAAEAAAQAAAAAAQAAAAAAAAABAAACAAAAAAEAAAgAAAAAAgAAAgAAAAABAAAKAAAAAAEAAAQAAAAAAQAAAAAAAAABAAACAAAAAAEAAAYAAAAAAQAAAgAAAAABAAAKAAAAAAEAAAQAAAAAAQAAAAAAAAABAAACAAAAAAEAAAoAAAAAAQAABAAAAAABAAAAAAAAAAEAAAIAAAAAHHN0c2MAAAAAAAAAAQAAAAEAAADKAAAAAQAAAzxzdHN6AAAAAAAAAAAAAADKAAAFlgAAACQAAAAWAAAAFAAAACAAAAAUAAAAHQAAAB0AAAAdAAAAKQAAABkAAAAUAAAAEwAAACsAAAAUAAAAEwAAABQAAAAcAAAAEwAAABwAAAAdAAAAHQAAABMAAAASAAAAGwAAABQAAAAfAAAAFAAAABQAAAATAAAAFwAAABAAAAAUAAAAFAAAABcAAAAQAAAAFAAAABQAAAAeAAAAFgAAABMAAAAtAAAAGgAAABMAAAAUAAAAFwAAABAAAAAUAAAAFAAAAB4AAAATAAAAEQAAACAAAAAUAAAAEwAAABQAAAAXAAAAEAAAABQAAAAUAAAAFwAAABAAAAAUAAAAFAAAABcAAAAQAAAAFAAAABMAAAAXAAAAEAAAABQAAAAUAAAAIAAAABQAAAATAAAAFAAAABcAAAAQAAAAFAAAABQAAAAgAAAAFAAAABMAAAATAAAAFwAAABAAAAAUAAAAFAAAABcAAAAQAAAAFAAAABQAAAAhAAAAFAAAABwAAAAUAAAAEwAAABMAAAAdAAAAFAAAABMAAAAUAAAAFwAAABcAAAAUAAAAFAAAACAAAAAUAAAAEwAAABMAAAAhAAAAFAAAABMAAAAUAAAAHgAAACAAAAAUAAAAFAAAABMAAAAgAAAAGQAAABQAAAAUAAAAHgAAABUAAAAQAAAAFAAAABQAAAAeAAAAIgAAABQAAAAeAAAAFAAAABQAAAATAAAAFwAAABAAAAATAAAAEwAAABcAAAAQAAAAEwAAABMAAAAWAAAAEAAAABMAAAATAAAAHwAAABYAAAAQAAAAFAAAABQAAAAXAAAAEAAAABQAAAAUAAAAIAAAABQAAAAUAAAAEwAAABwAAAAUAAAAEwAAABQAAAAdAAAAFAAAABQAAAATAAAAFgAAABAAAAAUAAAAFAAAAB4AAAAWAAAAFwAAABQAAAAUAAAAFwAAABAAAAATAAAAEwAAABcAAAAQAAAAFAAAABMAAAAeAAAAFgAAABMAAAAdAAAAFAAAABMAAAAUAAAAHQAAABQAAAAVAAAAEAAAABQAAAAUAAAAHgAAACcAAAAUAAAAKQAAABRzdGNvAAAAAAAAAAEAAAAwAAAAYnVkdGEAAABabWV0YQAAAAAAAAAhaGRscgAAAAAAAAAAbWRpcmFwcGwAAAAAAAAAAAAAAAAtaWxzdAAAACWpdG9vAAAAHWRhdGEAAAABAAAAAExhdmY1Ny44My4xMDA=\" type=\"video/mp4\" />\n",
       "             </video>"
      ],
      "text/plain": [
       "<IPython.core.display.HTML object>"
      ]
     },
     "execution_count": 23,
     "metadata": {},
     "output_type": "execute_result"
    }
   ],
   "source": [
    "env = Environment(grid_size=size, max_time=T, temperature=0.3)\n",
    "agent = DQN_CNN(size, lr=.1, epsilon = 0.1, memory_size=2000, batch_size = 32)\n",
    "train(agent,env,epochs_train,prefix='cnn_train')\n",
    "HTML(display_videos('cnn_train10.mp4'))"
   ]
  },
  {
   "cell_type": "markdown",
   "metadata": {},
   "source": [
    "***\n",
    "***\n",
    "__Question 9__ Test both algorithms and compare their performances. Which issue(s) do you observe? Observe also different behaviors by changing the temperature."
   ]
  },
  {
   "cell_type": "code",
   "execution_count": 102,
   "metadata": {},
   "outputs": [
    {
     "name": "stdout",
     "output_type": "stream",
     "text": [
      "Test of the CNN\n",
      "Win/lose count 2.0/2.0. Average score (0.0)\n",
      "Win/lose count 1.5/0. Average score (0.75)\n",
      "Win/lose count 0.5/0. Average score (0.6666666666666666)\n",
      "Win/lose count 0.5/0. Average score (0.625)\n",
      "Win/lose count 1.5/0. Average score (0.8)\n",
      "Win/lose count 1.0/1.0. Average score (0.6666666666666666)\n",
      "Win/lose count 1.5/4.0. Average score (0.21428571428571427)\n",
      "Win/lose count 1.0/0. Average score (0.3125)\n",
      "Win/lose count 1.0/2.0. Average score (0.16666666666666666)\n",
      "Win/lose count 1.5/4.0. Average score (-0.1)\n",
      "Win/lose count 1.5/2.0. Average score (-0.13636363636363635)\n",
      "Final score: -0.13636363636363635\n",
      "Test of the FC\n",
      "Win/lose count 1.5/2.0. Average score (-0.5)\n",
      "Win/lose count 0/3.0. Average score (-1.75)\n",
      "Win/lose count 1.5/0. Average score (-0.6666666666666666)\n",
      "Win/lose count 0.5/0. Average score (-0.375)\n",
      "Win/lose count 1.0/3.0. Average score (-0.7)\n",
      "Win/lose count 0.5/1.0. Average score (-0.6666666666666666)\n",
      "Win/lose count 0.5/3.0. Average score (-0.9285714285714286)\n",
      "Win/lose count 0.5/1.0. Average score (-0.875)\n",
      "Win/lose count 2.0/2.0. Average score (-0.7777777777777778)\n",
      "Win/lose count 2.0/1.0. Average score (-0.6)\n",
      "Win/lose count 1.0/1.0. Average score (-0.5454545454545454)\n",
      "Final score: -0.5454545454545454\n"
     ]
    }
   ],
   "source": [
    "env = Environment(grid_size=size, max_time=T,temperature=0.1)\n",
    "agent_cnn = DQN_CNN(size, lr=.1, epsilon = 0.1, memory_size=2000, batch_size = 32)\n",
    "agent_cnn.load(name_weights='cnn_trainmodel.h5',name_model='cnn_trainmodel.json')\n",
    "\n",
    "agent_fc = DQN_FC(size, lr=.1, epsilon = 0.1, memory_size=2000, batch_size = 32)\n",
    "agent_fc.load(name_weights='fc_trainmodel.h5',name_model='fc_trainmodel.json')\n",
    "print('Test of the CNN')\n",
    "test(agent_cnn,env,epochs_test,prefix='cnn_test')\n",
    "print('Test of the FC')\n",
    "test(agent_fc,env,epochs_test,prefix='fc_test')"
   ]
  },
  {
   "cell_type": "code",
   "execution_count": 103,
   "metadata": {},
   "outputs": [
    {
     "data": {
      "text/html": [
       "<video alt=\"test\" controls>\n",
       "                <source src=\"data:video/mp4;base64,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\" type=\"video/mp4\" />\n",
       "             </video>"
      ],
      "text/plain": [
       "<IPython.core.display.HTML object>"
      ]
     },
     "execution_count": 103,
     "metadata": {},
     "output_type": "execute_result"
    }
   ],
   "source": [
    "HTML(display_videos('cnn_test10.mp4'))"
   ]
  },
  {
   "cell_type": "code",
   "execution_count": 104,
   "metadata": {},
   "outputs": [
    {
     "data": {
      "text/html": [
       "<video alt=\"test\" controls>\n",
       "                <source src=\"data:video/mp4;base64,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\" type=\"video/mp4\" />\n",
       "             </video>"
      ],
      "text/plain": [
       "<IPython.core.display.HTML object>"
      ]
     },
     "execution_count": 104,
     "metadata": {},
     "output_type": "execute_result"
    }
   ],
   "source": [
    "HTML(display_videos('fc_test10.mp4'))"
   ]
  },
  {
   "cell_type": "markdown",
   "metadata": {},
   "source": [
    "The main issue is the lack of exploration, the agent always gets stuck in a corner. \n",
    "It is expecially true for the CNN agent and a bit less with the FC. But the FC agent performs overall way worse if the temperature is low.\n",
    "\n",
    "To improve score we can:\n",
    " - Force a period of exploration \n",
    " - Try other networks architecture"
   ]
  },
  {
   "cell_type": "markdown",
   "metadata": {},
   "source": [
    "***\n",
    "\n",
    "The algorithm tends to not explore the map which can be an issue. We propose two ideas in order to encourage exploration:\n",
    "1. Incorporating a decreasing $\\epsilon$-greedy exploration. You can use the method ```set_epsilon```\n",
    "2. Append via the environment a new state that describes if a cell has been visited or not\n",
    "\n",
    "***\n",
    "__Question 10__ Design a new ```train_explore``` function and environment class ```EnvironmentExploring``` to tackle the issue of exploration.\n",
    "\n"
   ]
  },
  {
   "cell_type": "code",
   "execution_count": 95,
   "metadata": {},
   "outputs": [],
   "source": [
    "def train_explore(agent,env,epoch,prefix=''):\n",
    "    # Number of won games\n",
    "    score = 0\n",
    "    loss = 0\n",
    "\n",
    "    for e in range(epoch):\n",
    "        # At each epoch, we restart to a fresh game and get the initial state\n",
    "        state = env.reset()\n",
    "        # This assumes that the games will terminate\n",
    "        game_over = False\n",
    "\n",
    "        win = 0\n",
    "        lose = 0\n",
    "\n",
    "        while not game_over:\n",
    "            # The agent performs an action\n",
    "            action = agent.act(state)\n",
    "\n",
    "            # Apply an action to the environment, get the next state, the reward\n",
    "            # and if the games end\n",
    "            prev_state = state\n",
    "            state, reward, game_over = env.act(action, train=True)\n",
    "\n",
    "            # Update the counters\n",
    "            if reward > 0:\n",
    "                win = win + reward\n",
    "            if reward < 0:\n",
    "                lose = lose -reward\n",
    "\n",
    "            # Apply the reinforcement strategy\n",
    "            loss = agent.reinforce(prev_state, state,  action, reward, game_over)\n",
    "            \n",
    "        #Epsilon decay method\n",
    "        if agent.epsilon >0.05: \n",
    "            agent.set_epsilon(agent.epsilon-(1/((e+1)*2)))\n",
    "                              \n",
    "        # Save as a mp4\n",
    "        if e % 10 == 0:\n",
    "            env.draw(prefix+str(e))\n",
    "\n",
    "        # Update stats\n",
    "        score += win-lose\n",
    "\n",
    "\n",
    "        print(\"Epoch {:03d}/{:03d} | Loss {:.4f} | Win/lose count {}/{} ({}) | epsilon ({})\"\n",
    "              .format(e, epoch, loss, win, lose, win-lose, round(agent.epsilon, 3)))\n",
    "        agent.save(name_weights=prefix+'model.h5',name_model=prefix+'model.json')\n",
    "        \n",
    "        \n",
    "class EnvironmentExploring(Environment):\n",
    "\n",
    "    def __init__(self, grid_size=10, max_time=500, temperature=0.1,penalty = 0.25):\n",
    "        grid_size = grid_size+4\n",
    "        self.grid_size = grid_size\n",
    "        self.max_time = max_time\n",
    "        self.temperature = temperature\n",
    "\n",
    "        #board on which one plays\n",
    "        self.board = np.zeros((grid_size,grid_size))\n",
    "        self.position = np.zeros((grid_size,grid_size))\n",
    "        self.malus_position = np.zeros((grid_size,grid_size))\n",
    "        self.penalty = penalty\n",
    "        \n",
    "        # self time\n",
    "        self.t = 0\n",
    "\n",
    "        self.scale=16\n",
    "\n",
    "        self.to_draw = np.zeros((max_time+2, grid_size*self.scale, grid_size*self.scale, 3))\n",
    "\n",
    "    def act(self, action, train=False):\n",
    "        \"\"\"This function returns the new state, reward and decides if the\n",
    "        game ends.\"\"\"\n",
    "\n",
    "        self.get_frame(int(self.t))\n",
    "\n",
    "        self.position = np.zeros((self.grid_size, self.grid_size))\n",
    "\n",
    "        self.position[0:2,:]= -1\n",
    "        self.position[:,0:2] = -1\n",
    "        self.position[-2:, :] = -1\n",
    "        self.position[-2:, :] = -1\n",
    "\n",
    "        self.position[self.x, self.y] = 1\n",
    "                              \n",
    "        if action == 0:\n",
    "            if self.x == self.grid_size-3:\n",
    "                self.x = self.x-1\n",
    "            else:\n",
    "                self.x = self.x + 1\n",
    "        elif action == 1:\n",
    "            if self.x == 2:\n",
    "                self.x = self.x+1\n",
    "            else:\n",
    "                self.x = self.x-1\n",
    "        elif action == 2:\n",
    "            if self.y == self.grid_size - 3:\n",
    "                self.y = self.y - 1\n",
    "            else:\n",
    "                self.y = self.y + 1\n",
    "        elif action == 3:\n",
    "            if self.y == 2:\n",
    "                self.y = self.y + 1\n",
    "            else:\n",
    "                self.y = self.y - 1\n",
    "        else:\n",
    "            RuntimeError('Error: action not recognized')\n",
    "        \n",
    "        reward = 0\n",
    "        \n",
    "        if train:\n",
    "            reward = -self.malus_position[self.x, self.y]\n",
    "        \n",
    "        self.malus_position[self.x, self.y] = self.penalty\n",
    "        \n",
    "        self.t = self.t + 1\n",
    "        reward = reward + self.board[self.x, self.y]\n",
    "        \n",
    "        #self.visited[self.x, self.y] += 1\n",
    "        #self.visit_old_place_pen[self.x, self.y] = -self.penalty*self.visited[self.x, self.y]\n",
    "        \n",
    "        self.board[self.x, self.y] = 0\n",
    "        game_over = self.t > self.max_time\n",
    "                              \n",
    "        # 3 \"feature\" states instead of 2\n",
    "        state = np.concatenate((self.malus_position.reshape(self.grid_size, self.grid_size,1),\n",
    "                                        self.board.reshape(self.grid_size, self.grid_size,1),\n",
    "                                self.position.reshape(self.grid_size, self.grid_size,1)),axis=2)\n",
    "        \n",
    "        state = state[self.x-2:self.x+3,self.y-2:self.y+3,:]\n",
    "\n",
    "        return state, reward, game_over\n",
    "\n",
    "    def reset(self):\n",
    "        \"\"\"This function resets the game and returns the initial state\"\"\"\n",
    "\n",
    "        self.x = np.random.randint(3, self.grid_size-3, size=1)[0]\n",
    "        self.y = np.random.randint(3, self.grid_size-3, size=1)[0]\n",
    "\n",
    "\n",
    "        bonus = 0.5*np.random.binomial(1,self.temperature,size=self.grid_size**2)\n",
    "        bonus = bonus.reshape(self.grid_size,self.grid_size)\n",
    "\n",
    "        malus = -1.0*np.random.binomial(1,self.temperature,size=self.grid_size**2)\n",
    "        malus = malus.reshape(self.grid_size, self.grid_size)\n",
    "\n",
    "        self.to_draw = np.zeros((self.max_time+2, self.grid_size*self.scale, self.grid_size*self.scale, 3))\n",
    "\n",
    "\n",
    "        malus[bonus>0]=0\n",
    "\n",
    "        self.board = bonus + malus\n",
    "        \n",
    "        self.malus_position = np.zeros((self.grid_size, self.grid_size))\n",
    "        self.position = np.zeros((self.grid_size, self.grid_size))\n",
    "        self.position[0:2,:]= -1\n",
    "        self.position[:,0:2] = -1\n",
    "        self.position[-2:, :] = -1\n",
    "        self.position[-2:, :] = -1\n",
    "        self.board[self.x,self.y] = 0\n",
    "        self.t = 0\n",
    "\n",
    "        state = np.concatenate((self.malus_position.reshape(self.grid_size, self.grid_size,1),\n",
    "                                        self.board.reshape(self.grid_size, self.grid_size,1),\n",
    "                                self.position.reshape(self.grid_size, self.grid_size,1)),axis=2)\n",
    "        \n",
    "        state = state[self.x - 2:self.x + 3, self.y - 2:self.y + 3, :]\n",
    "        return state\n"
   ]
  },
  {
   "cell_type": "code",
   "execution_count": 96,
   "metadata": {},
   "outputs": [
    {
     "name": "stdout",
     "output_type": "stream",
     "text": [
      "Epoch 000/100 | Loss 0.0106 | Win/lose count 13.5/120.0 (-106.5) | epsilon (0.665)\n",
      "Epoch 001/100 | Loss 0.0157 | Win/lose count 15.0/118.0 (-103.0) | epsilon (0.632)\n",
      "Epoch 002/100 | Loss 0.0203 | Win/lose count 11.5/116.0 (-104.5) | epsilon (0.6)\n",
      "Epoch 003/100 | Loss 0.0251 | Win/lose count 14.0/124.0 (-110.0) | epsilon (0.57)\n",
      "Epoch 004/100 | Loss 0.0121 | Win/lose count 12.5/125.5 (-113.0) | epsilon (0.542)\n",
      "Epoch 005/100 | Loss 0.0214 | Win/lose count 17.0/117.0 (-100.0) | epsilon (0.515)\n",
      "Epoch 006/100 | Loss 0.0199 | Win/lose count 13.0/117.5 (-104.5) | epsilon (0.489)\n",
      "Epoch 007/100 | Loss 0.0167 | Win/lose count 10.5/124.25 (-113.75) | epsilon (0.464)\n",
      "Epoch 008/100 | Loss 0.0111 | Win/lose count 8.0/125.0 (-117.0) | epsilon (0.441)\n",
      "Epoch 009/100 | Loss 0.0112 | Win/lose count 16.0/123.0 (-107.0) | epsilon (0.419)\n",
      "Epoch 010/100 | Loss 0.0129 | Win/lose count 10.5/122.5 (-112.0) | epsilon (0.398)\n",
      "Epoch 011/100 | Loss 0.0254 | Win/lose count 8.0/125.75 (-117.75) | epsilon (0.378)\n",
      "Epoch 012/100 | Loss 0.0212 | Win/lose count 12.5/122.0 (-109.5) | epsilon (0.359)\n",
      "Epoch 013/100 | Loss 0.0264 | Win/lose count 11.5/117.25 (-105.75) | epsilon (0.341)\n",
      "Epoch 014/100 | Loss 0.0149 | Win/lose count 10.0/124.75 (-114.75) | epsilon (0.324)\n",
      "Epoch 015/100 | Loss 0.0136 | Win/lose count 10.5/119.25 (-108.75) | epsilon (0.308)\n",
      "Epoch 016/100 | Loss 0.0216 | Win/lose count 13.5/122.0 (-108.5) | epsilon (0.293)\n",
      "Epoch 017/100 | Loss 0.0246 | Win/lose count 10.5/120.75 (-110.25) | epsilon (0.278)\n",
      "Epoch 018/100 | Loss 0.0170 | Win/lose count 12.0/119.75 (-107.75) | epsilon (0.264)\n",
      "Epoch 019/100 | Loss 0.0131 | Win/lose count 14.0/119.75 (-105.75) | epsilon (0.251)\n",
      "Epoch 020/100 | Loss 0.0203 | Win/lose count 13.5/123.5 (-110.0) | epsilon (0.238)\n",
      "Epoch 021/100 | Loss 0.0197 | Win/lose count 18.0/118.5 (-100.5) | epsilon (0.226)\n",
      "Epoch 022/100 | Loss 0.0180 | Win/lose count 15.5/117.0 (-101.5) | epsilon (0.215)\n",
      "Epoch 023/100 | Loss 0.0153 | Win/lose count 12.0/123.25 (-111.25) | epsilon (0.204)\n",
      "Epoch 024/100 | Loss 0.0127 | Win/lose count 14.5/110.5 (-96.0) | epsilon (0.194)\n",
      "Epoch 025/100 | Loss 0.0151 | Win/lose count 11.0/116.75 (-105.75) | epsilon (0.184)\n",
      "Epoch 026/100 | Loss 0.0173 | Win/lose count 13.0/114.5 (-101.5) | epsilon (0.175)\n",
      "Epoch 027/100 | Loss 0.0172 | Win/lose count 11.0/116.25 (-105.25) | epsilon (0.166)\n",
      "Epoch 028/100 | Loss 0.0173 | Win/lose count 18.5/117.75 (-99.25) | epsilon (0.158)\n",
      "Epoch 029/100 | Loss 0.0218 | Win/lose count 16.5/121.25 (-104.75) | epsilon (0.15)\n",
      "Epoch 030/100 | Loss 0.0160 | Win/lose count 12.5/121.75 (-109.25) | epsilon (0.143)\n",
      "Epoch 031/100 | Loss 0.0211 | Win/lose count 13.5/113.0 (-99.5) | epsilon (0.136)\n",
      "Epoch 032/100 | Loss 0.0243 | Win/lose count 10.0/116.75 (-106.75) | epsilon (0.129)\n",
      "Epoch 033/100 | Loss 0.0211 | Win/lose count 10.5/116.75 (-106.25) | epsilon (0.122)\n",
      "Epoch 034/100 | Loss 0.0142 | Win/lose count 12.0/112.0 (-100.0) | epsilon (0.116)\n",
      "Epoch 035/100 | Loss 0.0252 | Win/lose count 12.0/116.0 (-104.0) | epsilon (0.11)\n",
      "Epoch 036/100 | Loss 0.0188 | Win/lose count 14.5/116.0 (-101.5) | epsilon (0.105)\n",
      "Epoch 037/100 | Loss 0.0138 | Win/lose count 14.0/115.75 (-101.75) | epsilon (0.1)\n",
      "Epoch 038/100 | Loss 0.0268 | Win/lose count 10.0/115.25 (-105.25) | epsilon (0.095)\n",
      "Epoch 039/100 | Loss 0.0147 | Win/lose count 10.5/115.25 (-104.75) | epsilon (0.09)\n",
      "Epoch 040/100 | Loss 0.0190 | Win/lose count 14.5/118.75 (-104.25) | epsilon (0.085)\n",
      "Epoch 041/100 | Loss 0.0200 | Win/lose count 7.5/116.75 (-109.25) | epsilon (0.081)\n",
      "Epoch 042/100 | Loss 0.0160 | Win/lose count 11.5/113.75 (-102.25) | epsilon (0.077)\n",
      "Epoch 043/100 | Loss 0.0221 | Win/lose count 14.0/115.75 (-101.75) | epsilon (0.073)\n",
      "Epoch 044/100 | Loss 0.0134 | Win/lose count 15.5/110.0 (-94.5) | epsilon (0.07)\n",
      "Epoch 045/100 | Loss 0.0187 | Win/lose count 16.5/119.0 (-102.5) | epsilon (0.066)\n",
      "Epoch 046/100 | Loss 0.0266 | Win/lose count 8.5/124.25 (-115.75) | epsilon (0.063)\n",
      "Epoch 047/100 | Loss 0.0290 | Win/lose count 8.5/117.75 (-109.25) | epsilon (0.06)\n",
      "Epoch 048/100 | Loss 0.0149 | Win/lose count 14.0/116.25 (-102.25) | epsilon (0.057)\n",
      "Epoch 049/100 | Loss 0.0123 | Win/lose count 11.0/113.25 (-102.25) | epsilon (0.054)\n",
      "Epoch 050/100 | Loss 0.0120 | Win/lose count 8.5/117.5 (-109.0) | epsilon (0.051)\n",
      "Epoch 051/100 | Loss 0.0290 | Win/lose count 11.0/117.25 (-106.25) | epsilon (0.049)\n",
      "Epoch 052/100 | Loss 0.0141 | Win/lose count 13.0/114.25 (-101.25) | epsilon (0.049)\n",
      "Epoch 053/100 | Loss 0.0158 | Win/lose count 12.0/114.75 (-102.75) | epsilon (0.049)\n",
      "Epoch 054/100 | Loss 0.0249 | Win/lose count 4.5/122.5 (-118.0) | epsilon (0.049)\n",
      "Epoch 055/100 | Loss 0.0127 | Win/lose count 9.5/116.75 (-107.25) | epsilon (0.049)\n",
      "Epoch 056/100 | Loss 0.0106 | Win/lose count 10.5/111.0 (-100.5) | epsilon (0.049)\n",
      "Epoch 057/100 | Loss 0.0130 | Win/lose count 12.0/109.25 (-97.25) | epsilon (0.049)\n",
      "Epoch 058/100 | Loss 0.0125 | Win/lose count 11.5/116.0 (-104.5) | epsilon (0.049)\n",
      "Epoch 059/100 | Loss 0.0200 | Win/lose count 9.5/115.5 (-106.0) | epsilon (0.049)\n",
      "Epoch 060/100 | Loss 0.0161 | Win/lose count 13.0/117.5 (-104.5) | epsilon (0.049)\n",
      "Epoch 061/100 | Loss 0.0297 | Win/lose count 14.0/113.5 (-99.5) | epsilon (0.049)\n",
      "Epoch 062/100 | Loss 0.0184 | Win/lose count 15.0/108.75 (-93.75) | epsilon (0.049)\n",
      "Epoch 063/100 | Loss 0.0220 | Win/lose count 13.5/107.25 (-93.75) | epsilon (0.049)\n",
      "Epoch 064/100 | Loss 0.0209 | Win/lose count 16.5/114.5 (-98.0) | epsilon (0.049)\n",
      "Epoch 065/100 | Loss 0.0177 | Win/lose count 14.0/116.25 (-102.25) | epsilon (0.049)\n",
      "Epoch 066/100 | Loss 0.0193 | Win/lose count 12.5/110.5 (-98.0) | epsilon (0.049)\n",
      "Epoch 067/100 | Loss 0.0133 | Win/lose count 16.5/111.25 (-94.75) | epsilon (0.049)\n",
      "Epoch 068/100 | Loss 0.0169 | Win/lose count 11.0/118.75 (-107.75) | epsilon (0.049)\n",
      "Epoch 069/100 | Loss 0.0159 | Win/lose count 9.0/116.75 (-107.75) | epsilon (0.049)\n",
      "Epoch 070/100 | Loss 0.0212 | Win/lose count 16.0/118.75 (-102.75) | epsilon (0.049)\n",
      "Epoch 071/100 | Loss 0.0163 | Win/lose count 9.5/117.75 (-108.25) | epsilon (0.049)\n",
      "Epoch 072/100 | Loss 0.0150 | Win/lose count 19.0/115.5 (-96.5) | epsilon (0.049)\n",
      "Epoch 073/100 | Loss 0.0139 | Win/lose count 12.5/112.0 (-99.5) | epsilon (0.049)\n",
      "Epoch 074/100 | Loss 0.0150 | Win/lose count 8.0/117.0 (-109.0) | epsilon (0.049)\n",
      "Epoch 075/100 | Loss 0.0152 | Win/lose count 13.5/114.0 (-100.5) | epsilon (0.049)\n",
      "Epoch 076/100 | Loss 0.0158 | Win/lose count 8.5/115.75 (-107.25) | epsilon (0.049)\n"
     ]
    },
    {
     "ename": "KeyboardInterrupt",
     "evalue": "",
     "output_type": "error",
     "traceback": [
      "\u001b[0;31m---------------------------------------------------------------------------\u001b[0m",
      "\u001b[0;31mKeyboardInterrupt\u001b[0m                         Traceback (most recent call last)",
      "\u001b[0;32m<ipython-input-96-53f9a4aef286>\u001b[0m in \u001b[0;36m<module>\u001b[0;34m()\u001b[0m\n\u001b[1;32m      6\u001b[0m \u001b[0menv\u001b[0m \u001b[0;34m=\u001b[0m \u001b[0mEnvironmentExploring\u001b[0m\u001b[0;34m(\u001b[0m\u001b[0mgrid_size\u001b[0m\u001b[0;34m=\u001b[0m\u001b[0msize\u001b[0m\u001b[0;34m,\u001b[0m \u001b[0mmax_time\u001b[0m\u001b[0;34m=\u001b[0m\u001b[0mT\u001b[0m\u001b[0;34m,\u001b[0m \u001b[0mtemperature\u001b[0m\u001b[0;34m=\u001b[0m\u001b[0;36m0.3\u001b[0m\u001b[0;34m)\u001b[0m\u001b[0;34m\u001b[0m\u001b[0m\n\u001b[1;32m      7\u001b[0m \u001b[0magent\u001b[0m \u001b[0;34m=\u001b[0m \u001b[0mDQN_CNN\u001b[0m\u001b[0;34m(\u001b[0m\u001b[0msize\u001b[0m\u001b[0;34m,\u001b[0m \u001b[0mlr\u001b[0m\u001b[0;34m=\u001b[0m\u001b[0;36m.1\u001b[0m\u001b[0;34m,\u001b[0m \u001b[0mepsilon\u001b[0m \u001b[0;34m=\u001b[0m \u001b[0;36m0.7\u001b[0m\u001b[0;34m,\u001b[0m \u001b[0mmemory_size\u001b[0m\u001b[0;34m=\u001b[0m\u001b[0;36m2000\u001b[0m\u001b[0;34m,\u001b[0m \u001b[0mbatch_size\u001b[0m \u001b[0;34m=\u001b[0m \u001b[0;36m32\u001b[0m\u001b[0;34m,\u001b[0m\u001b[0mn_state\u001b[0m\u001b[0;34m=\u001b[0m\u001b[0;36m3\u001b[0m\u001b[0;34m)\u001b[0m\u001b[0;34m\u001b[0m\u001b[0m\n\u001b[0;32m----> 8\u001b[0;31m \u001b[0mtrain_explore\u001b[0m\u001b[0;34m(\u001b[0m\u001b[0magent\u001b[0m\u001b[0;34m,\u001b[0m \u001b[0menv\u001b[0m\u001b[0;34m,\u001b[0m \u001b[0mepochs_train\u001b[0m\u001b[0;34m,\u001b[0m \u001b[0mprefix\u001b[0m\u001b[0;34m=\u001b[0m\u001b[0;34m'cnn_train_explore'\u001b[0m\u001b[0;34m)\u001b[0m\u001b[0;34m\u001b[0m\u001b[0m\n\u001b[0m\u001b[1;32m      9\u001b[0m \u001b[0;31m#test(agent, env, epochs, prefix='cnn_train_explore')\u001b[0m\u001b[0;34m\u001b[0m\u001b[0;34m\u001b[0m\u001b[0m\n\u001b[1;32m     10\u001b[0m \u001b[0mHTML\u001b[0m\u001b[0;34m(\u001b[0m\u001b[0mdisplay_videos\u001b[0m\u001b[0;34m(\u001b[0m\u001b[0;34m'cnn_train_explore10.mp4'\u001b[0m\u001b[0;34m)\u001b[0m\u001b[0;34m)\u001b[0m\u001b[0;34m\u001b[0m\u001b[0m\n",
      "\u001b[0;32m<ipython-input-95-32965f06b3cf>\u001b[0m in \u001b[0;36mtrain_explore\u001b[0;34m(agent, env, epoch, prefix)\u001b[0m\n\u001b[1;32m     29\u001b[0m \u001b[0;34m\u001b[0m\u001b[0m\n\u001b[1;32m     30\u001b[0m             \u001b[0;31m# Apply the reinforcement strategy\u001b[0m\u001b[0;34m\u001b[0m\u001b[0;34m\u001b[0m\u001b[0m\n\u001b[0;32m---> 31\u001b[0;31m             \u001b[0mloss\u001b[0m \u001b[0;34m=\u001b[0m \u001b[0magent\u001b[0m\u001b[0;34m.\u001b[0m\u001b[0mreinforce\u001b[0m\u001b[0;34m(\u001b[0m\u001b[0mprev_state\u001b[0m\u001b[0;34m,\u001b[0m \u001b[0mstate\u001b[0m\u001b[0;34m,\u001b[0m  \u001b[0maction\u001b[0m\u001b[0;34m,\u001b[0m \u001b[0mreward\u001b[0m\u001b[0;34m,\u001b[0m \u001b[0mgame_over\u001b[0m\u001b[0;34m)\u001b[0m\u001b[0;34m\u001b[0m\u001b[0m\n\u001b[0m\u001b[1;32m     32\u001b[0m \u001b[0;34m\u001b[0m\u001b[0m\n\u001b[1;32m     33\u001b[0m         \u001b[0;31m#Epsilon decay method\u001b[0m\u001b[0;34m\u001b[0m\u001b[0;34m\u001b[0m\u001b[0m\n",
      "\u001b[0;32m<ipython-input-53-e630ba6de97c>\u001b[0m in \u001b[0;36mreinforce\u001b[0;34m(self, s_, n_s_, a_, r_, game_over_)\u001b[0m\n\u001b[1;32m     54\u001b[0m                 \u001b[0;31m#maxi = np.max(self.model.predict(n_state_.reshape(1, 5, 5, self.n_state)))\u001b[0m\u001b[0;34m\u001b[0m\u001b[0;34m\u001b[0m\u001b[0m\n\u001b[1;32m     55\u001b[0m                 target_q[i][action_] = (reward_ + self.discount * \n\u001b[0;32m---> 56\u001b[0;31m                                         np.max(self.model.predict(n_state_.reshape(1, 5, 5, self.n_state))))\n\u001b[0m\u001b[1;32m     57\u001b[0m \u001b[0;34m\u001b[0m\u001b[0m\n\u001b[1;32m     58\u001b[0m \u001b[0;34m\u001b[0m\u001b[0m\n",
      "\u001b[0;31mKeyboardInterrupt\u001b[0m: "
     ]
    }
   ],
   "source": [
    "T=500\n",
    "size = 10\n",
    "epochs_train =100\n",
    "epochs = 11\n",
    "# Training\n",
    "env = EnvironmentExploring(grid_size=size, max_time=T, temperature=0.3)\n",
    "agent = DQN_CNN(size, lr=.1, epsilon = 0.7, memory_size=2000, batch_size = 32,n_state=3)\n",
    "train_explore(agent, env, epochs_train, prefix='cnn_train_explore')\n",
    "#test(agent, env, epochs, prefix='cnn_train_explore')\n",
    "HTML(display_videos('cnn_train_explore10.mp4'))"
   ]
  },
  {
   "cell_type": "code",
   "execution_count": 98,
   "metadata": {},
   "outputs": [
    {
     "name": "stdout",
     "output_type": "stream",
     "text": [
      "Win/lose count 11.5/6.0. Average score (5.5)\n",
      "Win/lose count 11.0/5.0. Average score (5.75)\n",
      "Win/lose count 13.0/6.0. Average score (6.166666666666667)\n",
      "Win/lose count 12.5/4.0. Average score (6.75)\n",
      "Win/lose count 16.5/5.0. Average score (7.7)\n",
      "Win/lose count 11.0/4.0. Average score (7.583333333333333)\n",
      "Win/lose count 13.0/9.0. Average score (7.071428571428571)\n",
      "Win/lose count 14.0/4.0. Average score (7.4375)\n",
      "Win/lose count 13.0/5.0. Average score (7.5)\n",
      "Win/lose count 14.5/7.0. Average score (7.5)\n",
      "Win/lose count 11.5/12.0. Average score (6.7727272727272725)\n",
      "Final score: 6.7727272727272725\n"
     ]
    },
    {
     "data": {
      "text/html": [
       "<video alt=\"test\" controls>\n",
       "                <source src=\"data:video/mp4;base64,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\" type=\"video/mp4\" />\n",
       "             </video>"
      ],
      "text/plain": [
       "<IPython.core.display.HTML object>"
      ]
     },
     "execution_count": 98,
     "metadata": {},
     "output_type": "execute_result"
    }
   ],
   "source": [
    "# Evaluation\n",
    "test(agent,env,epochs_test,prefix='cnn_test_explore')\n",
    "HTML(display_videos('cnn_test_explore10.mp4'))"
   ]
  },
  {
   "cell_type": "markdown",
   "metadata": {},
   "source": [
    "***\n",
    "***\n",
    "__BONUS question__ Use the expert DQN from the previous question to generate some winning games. Train a model that mimicks its behavior. Compare the performances."
   ]
  },
  {
   "cell_type": "markdown",
   "metadata": {},
   "source": []
  },
  {
   "cell_type": "markdown",
   "metadata": {},
   "source": [
    "***"
   ]
  }
 ],
 "metadata": {
  "kernelspec": {
   "display_name": "Python 3",
   "language": "python",
   "name": "python3"
  },
  "language_info": {
   "codemirror_mode": {
    "name": "ipython",
    "version": 3
   },
   "file_extension": ".py",
   "mimetype": "text/x-python",
   "name": "python",
   "nbconvert_exporter": "python",
   "pygments_lexer": "ipython3",
   "version": "3.6.5"
  }
 },
 "nbformat": 4,
 "nbformat_minor": 2
}
